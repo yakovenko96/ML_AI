{
 "cells": [
  {
   "cell_type": "code",
   "execution_count": 6,
   "id": "cbafbd8d-c309-4009-8cb5-05411c6282a9",
   "metadata": {},
   "outputs": [
    {
     "name": "stdout",
     "output_type": "stream",
     "text": [
      "500 Internal Server Error\n"
     ]
    }
   ],
   "source": [
    "import requests\n",
    "import json\n",
    "\n",
    "url = 'http://127.0.0.1:7500/predict_item'\n",
    "\n",
    "data = {\n",
    "    \"name\": \"Hyundai\",\n",
    "    \"year\": 2014,\n",
    "    \"km_driven\": 30000,\n",
    "    \"fuel\": \"Petrol\",\n",
    "    \"seller_type\": \"Individual\",\n",
    "    \"transmission\": \"Manual\",\n",
    "    \"owner\": \"First Owner\",\n",
    "    \"mileage\": 19.1,\n",
    "    \"engine\": 1197,\n",
    "    \"max_power\": 82,\n",
    "    \"seats\": \"5\",\n",
    "    \"max_torq\": 4000,\n",
    "    \"torque_npm\": 114\n",
    "}\n",
    "\n",
    "response = requests.post(url, json=data)\n",
    "\n",
    "if response.status_code == 200:\n",
    "    print(response.json())\n",
    "else:\n",
    "    print(response.status_code, response.text)"
   ]
  },
  {
   "cell_type": "code",
   "execution_count": null,
   "id": "0ee3673a-38d4-4822-91c2-3edccf72d6a5",
   "metadata": {},
   "outputs": [],
   "source": []
  }
 ],
 "metadata": {
  "kernelspec": {
   "display_name": "Python 3 (ipykernel)",
   "language": "python",
   "name": "python3"
  },
  "language_info": {
   "codemirror_mode": {
    "name": "ipython",
    "version": 3
   },
   "file_extension": ".py",
   "mimetype": "text/x-python",
   "name": "python",
   "nbconvert_exporter": "python",
   "pygments_lexer": "ipython3",
   "version": "3.12.7"
  }
 },
 "nbformat": 4,
 "nbformat_minor": 5
}

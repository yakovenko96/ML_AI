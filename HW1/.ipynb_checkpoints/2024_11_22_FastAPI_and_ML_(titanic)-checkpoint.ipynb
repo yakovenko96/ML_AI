{
 "cells": [
  {
   "cell_type": "markdown",
   "metadata": {
    "id": "uckPkqdKHZQd"
   },
   "source": [
    "# FastAPI и ML-модель. Титаник"
   ]
  },
  {
   "cell_type": "code",
   "execution_count": null,
   "metadata": {},
   "outputs": [],
   "source": [
    "%%writefile main.py\n",
    "from fastapi import FastAPI\n",
    "\n",
    "app = FastAPI()\n",
    "\n",
    "@app.get(\"/\")\n",
    "async def root():\n",
    "    return {\"message\": \"Hello World\"}\n",
    "!uvicorn main:app --reload"
   ]
  },
  {
   "cell_type": "code",
   "execution_count": null,
   "metadata": {},
   "outputs": [],
   "source": [
    "#загрузка одного файла"
   ]
  },
  {
   "cell_type": "code",
   "execution_count": null,
   "metadata": {},
   "outputs": [],
   "source": [
    "from fastapi import File, UploadFile, HTTPException\n",
    "\n",
    "@app.post(\"/upload\")\n",
    "def upload(file: UploadFile = File(...)):\n",
    "    try:\n",
    "        contents = file.file.read()\n",
    "        with open(file.filename, 'wb') as f:\n",
    "            f.write(contents)\n",
    "    except Exception:\n",
    "        raise HTTPException(status_code=500, detail='Something went wrong')\n",
    "    finally:\n",
    "        file.file.close()\n",
    "\n",
    "    return {\"message\": f\"Successfully uploaded {file.filename}\"}"
   ]
  },
  {
   "cell_type": "code",
   "execution_count": null,
   "metadata": {},
   "outputs": [],
   "source": [
    "#загрузка списка файлов"
   ]
  },
  {
   "cell_type": "code",
   "execution_count": null,
   "metadata": {},
   "outputs": [],
   "source": [
    "from fastapi import File, UploadFile, HTTPException\n",
    "from typing import List\n",
    "\n",
    "@app.post(\"/upload\")\n",
    "def upload(files: List[UploadFile] = File(...)):\n",
    "    for file in files:\n",
    "        try:\n",
    "            contents = file.file.read()\n",
    "            with open(file.filename, 'wb') as f:\n",
    "                f.write(contents)\n",
    "        except Exception:\n",
    "            raise HTTPException(status_code=500, detail='Something went wrong')\n",
    "        finally:\n",
    "            file.file.close()\n",
    "\n",
    "    return {\"message\": f\"Successfuly uploaded {[file.filename for file in files]}\"}"
   ]
  },
  {
   "cell_type": "markdown",
   "metadata": {
    "id": "jnw7ciWHHePg"
   },
   "source": [
    "## Импортируем библиотеки и загружаем данные"
   ]
  },
  {
   "cell_type": "code",
   "execution_count": null,
   "metadata": {
    "id": "z1Vm157A9R1j"
   },
   "outputs": [],
   "source": [
    "import pandas as pd\n",
    "from sklearn.svm import SVC\n",
    "from sklearn.impute import SimpleImputer\n",
    "from sklearn.preprocessing import StandardScaler, OneHotEncoder\n",
    "from sklearn.linear_model import LogisticRegression\n",
    "from sklearn.model_selection import train_test_split\n",
    "from sklearn.pipeline import Pipeline\n",
    "from sklearn.compose import ColumnTransformer\n",
    "from sklearn.preprocessing import OneHotEncoder"
   ]
  },
  {
   "cell_type": "code",
   "execution_count": null,
   "metadata": {
    "id": "NHtYNV2cHlO1"
   },
   "outputs": [],
   "source": [
    "df = pd.read_csv(\n",
    "    'https://github.com/evgpat/datasets/raw/refs/heads/main/titanic.csv'\n",
    ")"
   ]
  },
  {
   "cell_type": "markdown",
   "metadata": {
    "id": "jznTZOhmH1IZ"
   },
   "source": [
    "## Строим пайплайн"
   ]
  },
  {
   "cell_type": "code",
   "execution_count": null,
   "metadata": {
    "id": "jCJE-XmhHrdd"
   },
   "outputs": [],
   "source": [
    "df_y = df['Survived']\n",
    "df_X = df.drop('Survived', axis=1)\n",
    "\n",
    "X_train, X_test, y_train, y_test = train_test_split(df_X, df_y, random_state=42)\n",
    "\n",
    "numerical_cols = ['Age', 'SibSp', 'Parch', 'Fare']\n",
    "numeric_transformer = Pipeline(steps=[\n",
    "    ('imputer', SimpleImputer(strategy='median')),\n",
    "    ('scaler', StandardScaler())\n",
    "])\n",
    "\n",
    "categorical_cols = ['Pclass', 'Embarked', 'Sex']\n",
    "categorical_transformer = Pipeline(steps=[\n",
    "    ('imputer', SimpleImputer(strategy='constant', fill_value='missing')),\n",
    "    ('onehot', OneHotEncoder(handle_unknown='ignore'))\n",
    "])\n",
    "\n",
    "column_trans = ColumnTransformer(\n",
    "    [\n",
    "        ('cat', categorical_transformer, categorical_cols),\n",
    "        ('num', numeric_transformer, numerical_cols)\n",
    "    ],\n",
    "    remainder='drop'\n",
    ")"
   ]
  },
  {
   "cell_type": "markdown",
   "metadata": {
    "id": "PwOZrr5HHu3w"
   },
   "source": [
    "## Обучаем модели"
   ]
  },
  {
   "cell_type": "code",
   "execution_count": null,
   "metadata": {
    "id": "7Pk2UIHAHw0W"
   },
   "outputs": [],
   "source": [
    "# LogisticRegression\n",
    "clf = Pipeline(steps=[('preprocessor', column_trans),\n",
    "                      ('classifier', LogisticRegression())])\n",
    "\n",
    "clf.fit(X_train, y_train)\n",
    "\n",
    "score_clf = clf.score(X_test, y_test)"
   ]
  },
  {
   "cell_type": "code",
   "execution_count": null,
   "metadata": {
    "id": "b5iseeXCHyq_"
   },
   "outputs": [],
   "source": [
    "# SVC\n",
    "clf_2 = Pipeline(steps=[('preprocessor', column_trans),\n",
    "                        ('classifier', SVC())])\n",
    "\n",
    "clf_2.fit(X_train, y_train)\n",
    "\n",
    "score_clf_2 = clf_2.score(X_test, y_test)"
   ]
  },
  {
   "cell_type": "markdown",
   "metadata": {
    "id": "EMSiG8c1H5ZA"
   },
   "source": [
    "## Сохраняем / загружаем модель"
   ]
  },
  {
   "cell_type": "code",
   "execution_count": null,
   "metadata": {
    "id": "taRK1lr-9x9w"
   },
   "outputs": [],
   "source": [
    "from joblib import dump\n",
    "dump(clf_2, 'clf_2.joblib')"
   ]
  },
  {
   "cell_type": "code",
   "execution_count": null,
   "metadata": {
    "id": "wnv9dLE89yxn"
   },
   "outputs": [],
   "source": [
    "from joblib import load\n",
    "clf_2 = load('clf_2.joblib')"
   ]
  },
  {
   "cell_type": "markdown",
   "metadata": {
    "id": "uvEVnv4IIACL"
   },
   "source": [
    "## Реализуем веб-сервис"
   ]
  },
  {
   "cell_type": "code",
   "execution_count": null,
   "metadata": {
    "id": "WQkR1CEsLeCT"
   },
   "outputs": [],
   "source": [
    "%%writefile main.py\n",
    "\n",
    "from enum import IntEnum, Enum\n",
    "from typing import Optional\n",
    "\n",
    "from fastapi import FastAPI\n",
    "from fastapi.encoders import jsonable_encoder\n",
    "from pydantic import BaseModel\n",
    "from joblib import load\n",
    "import pandas as pd\n",
    "\n",
    "\n",
    "class PClass(IntEnum):\n",
    "    first = 1\n",
    "    second = 2\n",
    "    third = 3\n",
    "\n",
    "\n",
    "class Embarked(str, Enum):\n",
    "    S = 'S'\n",
    "    C = 'C'\n",
    "    Q = 'Q'\n",
    "\n",
    "\n",
    "class Sex(str, Enum):\n",
    "    male = 'male'\n",
    "    female = 'female'\n",
    "\n",
    "\n",
    "def to_camel(string: str) -> str:\n",
    "    return ''.join(word.capitalize() for word in string.split('_'))\n",
    "\n",
    "\n",
    "class Passenger(BaseModel):\n",
    "    passenger_id: int\n",
    "    pclass: PClass\n",
    "    name: str\n",
    "    sex: Sex\n",
    "    age: Optional[float] = None\n",
    "    sib_sp: int\n",
    "    parch: int\n",
    "    ticket: str\n",
    "    fare: float\n",
    "    cabin: Optional[str] = None\n",
    "    embarked: Optional[Embarked] = None\n",
    "\n",
    "    class Config:\n",
    "        alias_generator = to_camel\n",
    "\n",
    "class PassengerResponse(Passenger):\n",
    "    prediction: bool\n",
    "\n",
    "clf = load('clf_2.joblib')\n",
    "\n",
    "app = FastAPI()\n",
    "\n",
    "\n",
    "def pydantic_model_to_df(model_instance):\n",
    "    return pd.DataFrame([jsonable_encoder(model_instance)])\n",
    "\n",
    "\n",
    "@app.post(\"/predict/\", response_model=PassengerResponse)\n",
    "async def predict(passenger: Passenger):\n",
    "    df_instance = pydantic_model_to_df(passenger)\n",
    "\n",
    "    prediction = clf.predict(df_instance).tolist()[0]\n",
    "\n",
    "    response = passenger.model_dump(by_alias=True)\n",
    "    response.update({'Prediction': prediction})\n",
    "    return response"
   ]
  },
  {
   "cell_type": "code",
   "execution_count": null,
   "metadata": {
    "id": "y9C37rvcMi4N"
   },
   "outputs": [],
   "source": [
    "!uvicorn main:app & npx localtunnel --port 8000 --subdomain fastapi & wget -q -O - https://loca.lt/mytunnelpassword"
   ]
  }
 ],
 "metadata": {
  "colab": {
   "provenance": []
  },
  "kernelspec": {
   "display_name": "Python 3 (ipykernel)",
   "language": "python",
   "name": "python3"
  },
  "language_info": {
   "codemirror_mode": {
    "name": "ipython",
    "version": 3
   },
   "file_extension": ".py",
   "mimetype": "text/x-python",
   "name": "python",
   "nbconvert_exporter": "python",
   "pygments_lexer": "ipython3",
   "version": "3.12.7"
  }
 },
 "nbformat": 4,
 "nbformat_minor": 4
}

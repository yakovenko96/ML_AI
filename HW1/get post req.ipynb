{
 "cells": [
  {
   "cell_type": "code",
   "execution_count": 5,
   "id": "cbafbd8d-c309-4009-8cb5-05411c6282a9",
   "metadata": {},
   "outputs": [
    {
     "name": "stdout",
     "output_type": "stream",
     "text": [
      "501618.5\n"
     ]
    }
   ],
   "source": [
    "import requests\n",
    "import json\n",
    "\n",
    "url = 'http://127.0.0.1:8000/predict_item'\n",
    "\n",
    "data = {\n",
    "    \"name\": \"Hyundai\",\n",
    "    \"year\": 2014,\n",
    "    \"km_driven\": 30000,\n",
    "    \"fuel\": \"Petrol\",\n",
    "    \"seller_type\": \"Individual\",\n",
    "    \"transmission\": \"Manual\",\n",
    "    \"owner\": \"First Owner\",\n",
    "    \"mileage\": 19.1,\n",
    "    \"engine\": 1197,\n",
    "    \"max_power\": 82,\n",
    "    \"seats\": \"5\",\n",
    "    \"max_torq\": 4000,\n",
    "    \"torque_npm\": 114\n",
    "}\n",
    "\n",
    "response = requests.post(url, json=data)\n",
    "\n",
    "if response.status_code == 200:\n",
    "    print(response.json())\n",
    "else:\n",
    "    print(response.status_code, response.text)"
   ]
  },
  {
   "cell_type": "code",
   "execution_count": 7,
   "id": "ed40513c-8bd5-4a0b-ae87-611409ac13c7",
   "metadata": {},
   "outputs": [
    {
     "name": "stdout",
     "output_type": "stream",
     "text": [
      "to_api.csv успешно загружен и обработан, загрузите результат по ссылке http://127.0.0.1:8000/result\n"
     ]
    }
   ],
   "source": [
    "import requests\n",
    "import json\n",
    "\n",
    "url = 'http://127.0.0.1:8000/predict_items'\n",
    "\n",
    "files = {'file': open('to_api.csv', 'rb')}\n",
    "\n",
    "response = requests.post(url, files=files)\n",
    "\n",
    "if response.status_code == 200:\n",
    "    print(response.json())\n",
    "else:\n",
    "    print(response.status_code, response.text)"
   ]
  },
  {
   "cell_type": "code",
   "execution_count": 26,
   "id": "0ee3673a-38d4-4822-91c2-3edccf72d6a5",
   "metadata": {},
   "outputs": [
    {
     "name": "stdout",
     "output_type": "stream",
     "text": [
      "Overwriting main.py\n"
     ]
    }
   ],
   "source": [
    "%%writefile main.py\n",
    "\n",
    "import pickle\n",
    "import pandas as pd\n",
    "from fastapi import FastAPI, File, UploadFile, HTTPException, responses\n",
    "from contextlib import asynccontextmanager\n",
    "from pydantic import BaseModel\n",
    "from typing import List\n",
    "\n",
    "\n",
    "class Item(BaseModel):\n",
    "    name: str\n",
    "    year: int\n",
    "    km_driven: int\n",
    "    fuel: str\n",
    "    seller_type: str\n",
    "    transmission: str\n",
    "    owner: str\n",
    "    mileage: float\n",
    "    engine: int\n",
    "    max_power: float\n",
    "    seats: str\n",
    "    max_torq: float\n",
    "    torque_npm: float\n",
    "\n",
    "def regressor(x: dict) -> float:\n",
    "    with open(\"model.pickle\", 'rb') as model_file:\n",
    "        loaded_model = pickle.load(model_file)\n",
    "    x_df = pd.DataFrame(x, index=[0])\n",
    "    res = loaded_model.predict(x_df)[0]\n",
    "    return round(res, 1)\n",
    "\n",
    "def file_regressor(x):\n",
    "    with open(\"model.pickle\", 'rb') as model_file:\n",
    "        loaded_model = pickle.load(model_file)\n",
    "    x_df = pd.read_csv(x, index_col=[0])\n",
    "    x_df['seats'] = x_df['seats'].astype(object)\n",
    "    x_df['predict'] = loaded_model.predict(x_df)\n",
    "    x_df.to_csv('result.csv')\n",
    "\n",
    "ml_models = {}\n",
    "\n",
    "@asynccontextmanager\n",
    "async def ml_lifespan_manager(app: FastAPI):\n",
    "    ml_models[\"regressor\"] = regressor\n",
    "    ml_models[\"file_regressor\"] = file_regressor\n",
    "    yield\n",
    "    ml_models.clear()\n",
    "\n",
    "app = FastAPI(lifespan=ml_lifespan_manager)\n",
    "\n",
    "@app.get(\"/\")\n",
    "async def root():\n",
    "    return {\"message\": \"Hello World\"}\n",
    "\n",
    "@app.get(\"/result/\")\n",
    "async def download_result():\n",
    "    return responses.FileResponse(path='result.csv', filename='Результат.csv')\n",
    "\n",
    "@app.post(\"/predict_item\")\n",
    "def predict_item(item: Item):\n",
    "    return ml_models[\"regressor\"](item.model_dump())\n",
    "\n",
    "@app.post(\"/predict_items\")\n",
    "def predict_items(file: UploadFile = File(...)):\n",
    "    try:\n",
    "        contents = file.file.read()\n",
    "        #with open(file.filename, 'wb') as f:\n",
    "        with open(f'download_{file.filename}', 'wb') as f:\n",
    "            f.write(contents)\n",
    "        ml_models[\"file_regressor\"](f'download_{file.filename}')\n",
    "    except Exception:\n",
    "        raise HTTPException(status_code=500, detail='Something went wrong')\n",
    "    finally:\n",
    "        file.file.close()\n",
    "\n",
    "    return f\"{file.filename} успешно загружен и обработан, загрузите результат по ссылке http://127.0.0.1:8000/result\"\n",
    "    "
   ]
  }
 ],
 "metadata": {
  "kernelspec": {
   "display_name": "Python 3 (ipykernel)",
   "language": "python",
   "name": "python3"
  },
  "language_info": {
   "codemirror_mode": {
    "name": "ipython",
    "version": 3
   },
   "file_extension": ".py",
   "mimetype": "text/x-python",
   "name": "python",
   "nbconvert_exporter": "python",
   "pygments_lexer": "ipython3",
   "version": "3.12.7"
  }
 },
 "nbformat": 4,
 "nbformat_minor": 5
}
